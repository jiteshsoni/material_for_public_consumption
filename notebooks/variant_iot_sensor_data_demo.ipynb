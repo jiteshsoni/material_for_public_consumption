{
 "cells": [
  {
   "cell_type": "markdown",
   "metadata": {
    "application/vnd.databricks.v1+cell": {
     "cellMetadata": {
      "byteLimit": 2048000,
      "rowLimit": 10000
     },
     "inputWidgets": {},
     "nuid": "7c50d2de-f985-4c2e-9103-9c1622b9268f",
     "showTitle": false,
     "tableResultSettingsMap": {},
     "title": ""
    }
   },
   "source": [
    "# IoT Sensor Data Demo with VARIANT Type\n",
    "\n",
    "This notebook demonstrates working with VARIANT columns in Databricks, specifically:\n",
    "- Creating tables with VARIANT columns\n",
    "- Generating synthetic IoT sensor data\n",
    "- Storing nested metadata as VARIANT\n",
    "- Querying and analyzing VARIANT data\n",
    "\n",
    "## Prerequisites\n",
    "- Databricks Connect configured locally\n",
    "- Environment variables set: DATABRICKS_HOST, DATABRICKS_TOKEN, DATABRICKS_CLUSTER_ID\n"
   ]
  },
  {
   "cell_type": "code",
   "execution_count": 0,
   "metadata": {
    "application/vnd.databricks.v1+cell": {
     "cellMetadata": {
      "byteLimit": 2048000,
      "rowLimit": 10000
     },
     "inputWidgets": {},
     "nuid": "2b30d5bc-e90d-45d9-bb35-858235e96233",
     "showTitle": false,
     "tableResultSettingsMap": {},
     "title": ""
    }
   },
   "outputs": [],
   "source": [
    "%pip install dbldatagen"
   ]
  },
  {
   "cell_type": "code",
   "execution_count": 0,
   "metadata": {
    "application/vnd.databricks.v1+cell": {
     "cellMetadata": {
      "byteLimit": 2048000,
      "rowLimit": 10000
     },
     "inputWidgets": {},
     "nuid": "e9687075-89ba-404d-bb2b-30d7722622aa",
     "showTitle": false,
     "tableResultSettingsMap": {},
     "title": ""
    }
   },
   "outputs": [],
   "source": [
    "from pyspark.sql.types import StructType, StructField, StringType, TimestampType, DoubleType, IntegerType\n",
    "from pyspark.sql.functions import expr, when, col, concat, lit, to_json, struct, current_timestamp, make_interval, parse_json, floor, rand\n",
    "import dbldatagen as dg\n",
    "import uuid\n",
    "\n",
    "print(\"✅ Required imports completed\")\n"
   ]
  },
  {
   "cell_type": "code",
   "execution_count": 0,
   "metadata": {
    "application/vnd.databricks.v1+cell": {
     "cellMetadata": {
      "byteLimit": 2048000,
      "rowLimit": 10000
     },
     "inputWidgets": {},
     "nuid": "5317e823-7b83-4c46-8b05-1df6e1b06045",
     "showTitle": false,
     "tableResultSettingsMap": {},
     "title": ""
    }
   },
   "outputs": [],
   "source": [
    "# Configuration\n",
    "PARTITIONS = 8\n",
    "ROWS_PER_SECOND = 100_000\n",
    "CHECKPOINT_PATH = f\"/Volumes/soni/default/checkpoints/_{uuid.uuid4()}\"\n",
    "\n",
    "\n",
    "# Create or replace table with VARIANT column\n",
    "spark.sql(\"\"\"\n",
    "CREATE OR REPLACE TABLE soni.default.iot_sensor_variant_demo (\n",
    "    sensor_id STRING,\n",
    "    location STRING,\n",
    "    temperature DOUBLE,\n",
    "    humidity INTEGER,\n",
    "    sensor_metadata VARIANT,\n",
    "    reading_timestamp TIMESTAMP\n",
    ")\n",
    "\"\"\")\n",
    "\n",
    "print(\"✅ Table with VARIANT column created/replaced\")\n"
   ]
  },
  {
   "cell_type": "code",
   "execution_count": 0,
   "metadata": {
    "application/vnd.databricks.v1+cell": {
     "cellMetadata": {
      "byteLimit": 2048000,
      "rowLimit": 10000
     },
     "inputWidgets": {},
     "nuid": "930f4c3d-e8eb-4963-b067-eec8bfdc65ad",
     "showTitle": false,
     "tableResultSettingsMap": {},
     "title": ""
    }
   },
   "outputs": [],
   "source": [
    "# Define schema for data generation\n",
    "schema = StructType([\n",
    "    StructField(\"sensor_id\", StringType(), False),\n",
    "    StructField(\"location\", StringType(), False),\n",
    "    StructField(\"temperature\", DoubleType(), False),\n",
    "    StructField(\"humidity\", IntegerType(), False),\n",
    "    StructField(\"battery_level\", IntegerType(), False),\n",
    "    StructField(\"signal_strength\", IntegerType(), False),\n",
    "    StructField(\"fault_code\", StringType(), False)\n",
    "])\n",
    "\n",
    "# Create data generator\n",
    "dataspec = (\n",
    "    dg.DataGenerator(spark, name=\"iot_variant_data\", partitions=PARTITIONS)\n",
    "    .withSchema(schema)\n",
    "    .withColumnSpec(\"sensor_id\", minValue=1000, maxValue=9999, prefix=\"SENSOR_\", random=True)\n",
    "    .withColumnSpec(\"location\", values=[\"Building_A\", \"Building_B\", \"Building_C\", \"Warehouse\"], random=True)\n",
    "    .withColumnSpec(\"temperature\", minValue=-10.0, maxValue=45.0, random=True)\n",
    "    .withColumnSpec(\"humidity\", minValue=20, maxValue=90, random=True)\n",
    "    .withColumnSpec(\"battery_level\", minValue=0, maxValue=100, random=True)\n",
    "    .withColumnSpec(\"signal_strength\", minValue=-100, maxValue=0, random=True)\n",
    "    .withColumnSpec(\"fault_code\", values=[\"OK\", \"SENSOR_FAIL\", \"BATTERY_LOW\", \"COMM_LOSS\"], \n",
    "                   weights=[0.8, 0.1, 0.05, 0.05], random=True)\n",
    ")\n",
    "\n",
    "print(\"✅ Data generator configured\")\n"
   ]
  },
  {
   "cell_type": "code",
   "execution_count": 0,
   "metadata": {
    "application/vnd.databricks.v1+cell": {
     "cellMetadata": {
      "byteLimit": 2048000,
      "rowLimit": 10000
     },
     "inputWidgets": {},
     "nuid": "11e3398b-6dda-4128-b233-313fab99dead",
     "showTitle": false,
     "tableResultSettingsMap": {},
     "title": ""
    }
   },
   "outputs": [],
   "source": [
    "# Create streaming DataFrame with VARIANT metadata\n",
    "streaming_df = (\n",
    "    dataspec.build(\n",
    "        withStreaming=True,\n",
    "        options={'rowsPerSecond': ROWS_PER_SECOND, 'numPartitions': PARTITIONS}\n",
    "    )\n",
    "    # Create VARIANT column with nested sensor metadata\n",
    "    .withColumn(\"sensor_metadata\", \n",
    "                parse_json(to_json(struct(\n",
    "                    col(\"battery_level\").alias(\"battery_level\"),\n",
    "                    col(\"signal_strength\").alias(\"signal_strength\"),\n",
    "                    col(\"fault_code\").alias(\"status\"),\n",
    "                    current_timestamp().alias(\"last_maintenance\"),\n",
    "                    lit(\"v2.1.5\").alias(\"firmware_version\"),\n",
    "                    (floor(rand() * 1000) + 1).alias(\"calibration_count\"),\n",
    "                    struct(\n",
    "                        lit(\"Acme Corp\").alias(\"manufacturer\"),\n",
    "                        lit(\"TempSense Pro\").alias(\"model\"),\n",
    "                        lit(\"2023\").alias(\"year\")\n",
    "                    ).alias(\"device_info\")\n",
    "                ))))\n",
    "    .withColumn(\"reading_timestamp\", current_timestamp())\n",
    "    # Keep only the columns we want in the final table\n",
    "    .select(\"sensor_id\", \"location\", \"temperature\", \"humidity\", \"sensor_metadata\", \"reading_timestamp\")\n",
    ")\n",
    "\n",
    "print(\"✅ Streaming DataFrame with VARIANT column created\")\n",
    "\n",
    "# COMMAND ----------\n",
    "\n",
    "# Start streaming write to Delta table\n",
    "streaming_query = (\n",
    "    streaming_df.writeStream\n",
    "    .queryName(\"iot_variant_sensor_stream\")\n",
    "    .outputMode(\"append\")\n",
    "    .format(\"delta\")\n",
    "    .option(\"checkpointLocation\", CHECKPOINT_PATH)\n",
    "    .option(\"mergeSchema\", \"true\")\n",
    "    .toTable(\"soni.default.iot_sensor_variant_demo\")\n",
    ")\n",
    "\n",
    "print(\"🚀 Streaming with VARIANT data started!\")\n",
    "print(f\"Query name: {streaming_query.name}\")"
   ]
  },
  {
   "cell_type": "code",
   "execution_count": 0,
   "metadata": {
    "application/vnd.databricks.v1+cell": {
     "cellMetadata": {
      "byteLimit": 2048000,
      "rowLimit": 10000
     },
     "inputWidgets": {},
     "nuid": "f6bcd8a0-254b-42de-8d8e-f883cb428ade",
     "showTitle": false,
     "tableResultSettingsMap": {},
     "title": ""
    }
   },
   "outputs": [],
   "source": [
    "# Wait a few seconds for data, then query VARIANT columns\n",
    "print(\"=== Basic VARIANT Column Query ===\")\n",
    "spark.sql(\"\"\"\n",
    "SELECT \n",
    "    sensor_id,\n",
    "    location,\n",
    "    temperature,\n",
    "    sensor_metadata:battery_level::INT as battery_level,\n",
    "    sensor_metadata:status::STRING as sensor_status,\n",
    "    sensor_metadata:firmware_version::STRING as firmware,\n",
    "    reading_timestamp\n",
    "FROM soni.default.iot_sensor_variant_demo\n",
    "LIMIT 5\n",
    "\"\"\").display()\n"
   ]
  },
  {
   "cell_type": "code",
   "execution_count": 0,
   "metadata": {
    "application/vnd.databricks.v1+cell": {
     "cellMetadata": {
      "byteLimit": 2048000,
      "rowLimit": 10000
     },
     "inputWidgets": {},
     "nuid": "543b6c3c-7c49-4ac7-93ed-0faa75a32662",
     "showTitle": false,
     "tableResultSettingsMap": {},
     "title": ""
    }
   },
   "outputs": [],
   "source": []
  }
 ],
 "metadata": {
  "application/vnd.databricks.v1+notebook": {
   "computePreferences": null,
   "dashboards": [],
   "environmentMetadata": null,
   "inputWidgetPreferences": null,
   "language": "python",
   "notebookMetadata": {
    "pythonIndentUnit": 2
   },
   "notebookName": "variant_iot_sensor_data_demo",
   "widgets": {}
  },
  "kernelspec": {
   "display_name": ".venv",
   "language": "python",
   "name": "python3"
  },
  "language_info": {
   "name": "python"
  }
 },
 "nbformat": 4,
 "nbformat_minor": 0
}
