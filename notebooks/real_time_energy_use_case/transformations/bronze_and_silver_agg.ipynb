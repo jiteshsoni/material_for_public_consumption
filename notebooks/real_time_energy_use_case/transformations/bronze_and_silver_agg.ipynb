{
 "cells": [
  {
   "cell_type": "code",
   "execution_count": 0,
   "metadata": {
    "application/vnd.databricks.v1+cell": {
     "cellMetadata": {
      "byteLimit": 2048000,
      "rowLimit": 10000
     },
     "inputWidgets": {},
     "nuid": "138d97f8-31a0-40b8-a3f1-b64ab3676b8d",
     "showTitle": false,
     "tableResultSettingsMap": {},
     "title": ""
    }
   },
   "outputs": [],
   "source": [
    "import dlt\n",
    "from pyspark.sql.functions import *\n",
    "from pyspark.sql.types import *\n"
   ]
  },
  {
   "cell_type": "code",
   "execution_count": 0,
   "metadata": {
    "application/vnd.databricks.v1+cell": {
     "cellMetadata": {
      "byteLimit": 2048000,
      "rowLimit": 10000
     },
     "inputWidgets": {},
     "nuid": "7ae4b4dc-e64c-46c3-8281-c2d0c9773c3e",
     "showTitle": false,
     "tableResultSettingsMap": {},
     "title": ""
    }
   },
   "outputs": [],
   "source": [
    "raw_data = \"/Volumes/soni/default/streaming_writes/synthetic_data_1million_events_per_second/\""
   ]
  },
  {
   "cell_type": "code",
   "execution_count": 0,
   "metadata": {
    "application/vnd.databricks.v1+cell": {
     "cellMetadata": {
      "byteLimit": 2048000,
      "rowLimit": 10000
     },
     "inputWidgets": {},
     "nuid": "41f3fc7f-f4eb-4063-8cac-759bb468c232",
     "showTitle": false,
     "tableResultSettingsMap": {},
     "title": ""
    }
   },
   "outputs": [],
   "source": [
    "# Bronze table: Ingest parquet files\n",
    "@dlt.expect_or_drop(\"valid_timestamp\", \"event_timestamp IS NOT NULL\")\n",
    "@dlt.expect_or_drop(\"valid_site\", \"site_id IS NOT NULL AND site_id != ''\")\n",
    "@dlt.expect_or_drop(\"valid_angles\", \"angle_actual IS NOT NULL AND angle_target IS NOT NULL\")\n",
    "@dlt.expect_or_drop(\"reasonable_angle_range\", \"angle_actual BETWEEN -180 AND 180 AND angle_target BETWEEN -180 AND 180\")\n",
    "@dlt.expect_or_drop(\"valid_motor_temp\", \"motor_temp IS NOT NULL AND motor_temp BETWEEN -50 AND 150\")\n",
    "@dlt.table(\n",
    "    name=\"bronze_raw_stream\",\n",
    "    comment=\"Raw tracker data ingested from parquet files\",\n",
    "    partition_cols=[\"event_date\"],\n",
    "    table_properties={\n",
    "        \"quality\": \"bronze\",\n",
    "        \"pipelines.autoOptimize.managed\": \"true\",\n",
    "        \"delta.enableDeletionVectors\":  \"true\"\n",
    "        \n",
    "    },\n",
    "    spark_conf={\n",
    "    # Run this table every 30 seconds instead of the pipeline default\n",
    "    \"pipelines.trigger.interval\": \"60 seconds\"\n",
    "  }\n",
    ")\n",
    "def bronze_tracker_data():\n",
    "    return spark.readStream.format(\"cloudFiles\") \\\n",
    "        .option(\"cloudFiles.format\", \"parquet\") \\\n",
    "        .load(raw_data) \\\n",
    "        .withColumn(\"event_date\", col(\"event_timestamp\").cast(\"date\")) \\\n",
    "        .select(\"*\", \"_metadata\") \\\n",
    "        .withColumn(\"angle_dev\",  expr(\"angle_target - angle_actual\")) \\\n",
    "        .withColumn(\"kwh_proxy\",  col(\"irradiance\") / 1000.0)  # Wh → kWh proxy"
   ]
  },
  {
   "cell_type": "code",
   "execution_count": 0,
   "metadata": {
    "application/vnd.databricks.v1+cell": {
     "cellMetadata": {
      "byteLimit": 2048000,
      "rowLimit": 10000
     },
     "inputWidgets": {},
     "nuid": "3df4b08e-e348-42c4-aa21-197f97eaf0f1",
     "showTitle": false,
     "tableResultSettingsMap": {},
     "title": ""
    }
   },
   "outputs": [],
   "source": [
    "@dlt.table(\n",
    "    name=\"silver_alerts\",\n",
    "    comment=\"Real-time alerts for operational issues requiring immediate attention\",\n",
    "    table_properties={\n",
    "        \"quality\": \"gold\",\n",
    "        \"pipelines.autoOptimize.managed\": \"true\"\n",
    "    },\n",
    "    spark_conf={\n",
    "    # Run this table every instead of the pipeline default\n",
    "    \"pipelines.trigger.interval\": \"15 minutes\"\n",
    "  }\n",
    ")\n",
    "def silver_alerts():\n",
    "    \"\"\"\n",
    "    Gold layer: Alert table for immediate operational response\n",
    "    Only contains records that require attention\n",
    "    \"\"\"\n",
    "    return (\n",
    "        spark.readStream.format(\"delta\").option(\"skipChangeCommits\", \"true\").table(\"silver_core_metrics\")\n",
    "        .filter(\n",
    "            (col(\"alert_level\").isin([\"CRITICAL\", \"FAILURE\"])) |\n",
    "            (col(\"maintenance_priority\") == \"HIGH\") |\n",
    "            (col(\"availability_pct\") < 90) |\n",
    "            (col(\"avg_angle_deviation_deg\") > 5) |\n",
    "            (col(\"fault_events\") > 0)\n",
    "        )\n",
    "        .select(\n",
    "            col(\"site_id\"),\n",
    "            col(\"window_start\"),\n",
    "            col(\"alert_level\"),\n",
    "            col(\"maintenance_priority\"),\n",
    "            col(\"availability_pct\"),\n",
    "            col(\"avg_angle_deviation_deg\"),\n",
    "            col(\"fault_events\"),\n",
    "            col(\"system_health_score\"),\n",
    "            col(\"avg_motor_temp\"),\n",
    "            current_timestamp().alias(\"alert_generated_at\")\n",
    "        )\n",
    "        .withColumn(\n",
    "            \"alert_description\",\n",
    "            when(col(\"alert_level\") == \"FAILURE\", \"System failure detected - immediate attention required\")\n",
    "            .when(col(\"alert_level\") == \"CRITICAL\", \"Critical system issues detected\")\n",
    "            .when(col(\"fault_events\") > 0, concat(lit(\"Fault events detected: \"), col(\"fault_events\")))\n",
    "            .when(col(\"availability_pct\") < 90, concat(lit(\"Low availability: \"), col(\"availability_pct\"), lit(\"%\")))\n",
    "            .when(col(\"avg_angle_deviation_deg\") > 5, concat(lit(\"High angle deviation: \"), col(\"avg_angle_deviation_deg\"), lit(\"°\")))\n",
    "            .otherwise(\"General maintenance attention required\")\n",
    "        )\n",
    "    )"
   ]
  },
  {
   "cell_type": "code",
   "execution_count": 0,
   "metadata": {
    "application/vnd.databricks.v1+cell": {
     "cellMetadata": {
      "byteLimit": 2048000,
      "rowLimit": 10000
     },
     "inputWidgets": {},
     "nuid": "4378624c-9c79-4ef5-8cd1-4798307add69",
     "showTitle": false,
     "tableResultSettingsMap": {},
     "title": ""
    }
   },
   "outputs": [],
   "source": []
  }
 ],
 "metadata": {
  "application/vnd.databricks.v1+notebook": {
   "computePreferences": null,
   "dashboards": [],
   "environmentMetadata": {
    "base_environment": "",
    "environment_version": "2"
   },
   "inputWidgetPreferences": null,
   "language": "python",
   "notebookMetadata": {
    "pythonIndentUnit": 2
   },
   "notebookName": "bronze_and_silver_agg",
   "widgets": {}
  },
  "language_info": {
   "name": "python"
  }
 },
 "nbformat": 4,
 "nbformat_minor": 0
}
