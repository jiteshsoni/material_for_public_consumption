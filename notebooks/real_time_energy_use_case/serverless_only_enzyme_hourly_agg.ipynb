{
 "cells": [
  {
   "cell_type": "code",
   "execution_count": 0,
   "metadata": {
    "application/vnd.databricks.v1+cell": {
     "cellMetadata": {
      "byteLimit": 2048000,
      "rowLimit": 10000
     },
     "inputWidgets": {},
     "nuid": "2eb4a984-1210-4596-94ad-18fb7eb82d80",
     "showTitle": false,
     "tableResultSettingsMap": {},
     "title": ""
    }
   },
   "outputs": [],
   "source": [
    "CREATE OR REFRESH MATERIALIZED VIEW hourly_agg_created_with_enzyme\n",
    " AS \n",
    "SELECT \n",
    "  -- Time dimension\n",
    "  date_trunc('hour', event_timestamp) AS event_hour_timestamp,\n",
    "  \n",
    "  -- Site grouping\n",
    "  site_id,\n",
    "  \n",
    "  -- Tracker performance metrics\n",
    "  COUNT(*) AS total_readings,\n",
    "  COUNT(DISTINCT tracker_row) AS active_tracker_rows,\n",
    "  \n",
    "  -- Angle tracking performance\n",
    "  AVG(angle_actual) AS avg_angle_actual,\n",
    "  AVG(angle_target) AS avg_angle_target,\n",
    "  AVG(ABS(angle_actual - angle_target)) AS avg_angle_deviation,\n",
    "  MAX(ABS(angle_actual - angle_target)) AS max_angle_deviation,\n",
    "  STDDEV(angle_actual - angle_target) AS angle_tracking_variance,\n",
    "  \n",
    "  -- Additional angle deviation metric\n",
    "  AVG(angle_dev) AS avg_angle_dev,\n",
    "  MAX(angle_dev) AS max_angle_dev,\n",
    "  \n",
    "  -- Motor performance\n",
    "  AVG(rpm) AS avg_motor_rpm,\n",
    "  MAX(rpm) AS max_motor_rpm,\n",
    "  MIN(rpm) AS min_motor_rpm,\n",
    "  AVG(torque) AS avg_motor_torque,\n",
    "  MAX(torque) AS max_motor_torque,\n",
    "  \n",
    "  -- Temperature monitoring\n",
    "  AVG(motor_temp) AS avg_motor_temp,\n",
    "  MAX(motor_temp) AS max_motor_temp,\n",
    "  AVG(ambient_temp) AS avg_ambient_temp,\n",
    "  MAX(ambient_temp) AS max_ambient_temp,\n",
    "  MIN(ambient_temp) AS min_ambient_temp,\n",
    "  \n",
    "  -- Environmental conditions\n",
    "  AVG(wind_speed) AS avg_wind_speed,\n",
    "  MAX(wind_speed) AS max_wind_speed,\n",
    "  AVG(irradiance) AS avg_irradiance,\n",
    "  MAX(irradiance) AS max_irradiance,\n",
    "  SUM(irradiance) / COUNT(*) AS weighted_avg_irradiance,\n",
    "  \n",
    "  -- Energy estimation (proxy)\n",
    "  AVG(kwh_proxy) AS avg_kwh_proxy,\n",
    "  SUM(kwh_proxy) AS total_kwh_proxy,\n",
    "  \n",
    "  -- System health indicators\n",
    "  COUNT(CASE WHEN fault_code IS NOT NULL AND fault_code != '' THEN 1 END) AS fault_count,\n",
    "  COUNT(CASE WHEN fault_code IS NULL OR fault_code = '' THEN 1 END) AS healthy_readings,\n",
    "  ROUND(\n",
    "    (COUNT(CASE WHEN fault_code IS NULL OR fault_code = '' THEN 1 END) * 100.0) / COUNT(*), \n",
    "    2\n",
    "  ) AS uptime_percentage,\n",
    "  \n",
    "  -- Fault analysis\n",
    "  collect_set(fault_code) AS unique_fault_codes,\n",
    "  \n",
    "  -- Tracking efficiency metrics\n",
    "  AVG(CASE \n",
    "    WHEN ABS(angle_actual - angle_target) <= 1 THEN 100.0\n",
    "    WHEN ABS(angle_actual - angle_target) <= 2 THEN 95.0\n",
    "    WHEN ABS(angle_actual - angle_target) <= 5 THEN 85.0\n",
    "    ELSE 70.0\n",
    "  END) AS tracking_efficiency_score,\n",
    "  \n",
    "  -- Weather impact indicators\n",
    "  AVG(CASE WHEN wind_speed > 10 THEN 1 ELSE 0 END) * 100 AS high_wind_percentage,\n",
    "  AVG(CASE WHEN irradiance > 800 THEN 1 ELSE 0 END) * 100 AS high_irradiance_percentage,\n",
    "  \n",
    "  -- Data quality metrics\n",
    "  COUNT(CASE WHEN _rescued_data IS NOT NULL THEN 1 END) AS rescued_data_count,\n",
    "  ROUND(\n",
    "    (COUNT(CASE WHEN _rescued_data IS NULL THEN 1 END) * 100.0) / COUNT(*), \n",
    "    2\n",
    "  ) AS data_quality_percentage\n",
    "\n",
    "FROM soni.default.nextracker_raw_stream\n",
    "WHERE event_timestamp IS NOT NULL\n",
    "GROUP BY all"
   ]
  }
 ],
 "metadata": {
  "application/vnd.databricks.v1+notebook": {
   "computePreferences": null,
   "dashboards": [],
   "environmentMetadata": {
    "base_environment": "",
    "environment_version": "3"
   },
   "inputWidgetPreferences": null,
   "language": "sql",
   "notebookMetadata": {
    "pythonIndentUnit": 2
   },
   "notebookName": "serverless_only_enzyme_hourly_agg",
   "widgets": {}
  },
  "language_info": {
   "name": "sql"
  }
 },
 "nbformat": 4,
 "nbformat_minor": 0
}
