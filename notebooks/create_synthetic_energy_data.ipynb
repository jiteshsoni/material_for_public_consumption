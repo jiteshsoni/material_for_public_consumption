{
 "cells": [
  {
   "cell_type": "code",
   "execution_count": 0,
   "metadata": {
    "application/vnd.databricks.v1+cell": {
     "cellMetadata": {
      "byteLimit": 2048000,
      "rowLimit": 10000
     },
     "inputWidgets": {},
     "nuid": "e4f81956-e57e-443c-9476-093da6a41f20",
     "showTitle": false,
     "tableResultSettingsMap": {},
     "title": ""
    }
   },
   "outputs": [],
   "source": [
    "%pip install dbldatagen"
   ]
  },
  {
   "cell_type": "code",
   "execution_count": 0,
   "metadata": {
    "application/vnd.databricks.v1+cell": {
     "cellMetadata": {
      "byteLimit": 2048000,
      "rowLimit": 10000
     },
     "inputWidgets": {},
     "nuid": "882cfb31-8d32-4262-b958-429bc7e1e9d7",
     "showTitle": false,
     "tableResultSettingsMap": {},
     "title": ""
    }
   },
   "outputs": [],
   "source": [
    "from pyspark.sql import SparkSession\n",
    "from pyspark.sql.functions import expr, from_unixtime, floor, rand, lit\n",
    "from pyspark.sql.types import *\n",
    "import dbldatagen as dg\n",
    "from datetime import datetime\n",
    "\n",
    "spark = SparkSession.builder.getOrCreate()\n",
    "\n",
    "# a) define schema\n",
    "schema = StructType([\n",
    "    StructField(\"site_id\",      StringType(), False),\n",
    "    StructField(\"tracker_row\",  StringType(), False),\n",
    "    StructField(\"angle_actual\", DoubleType(), False),\n",
    "    StructField(\"angle_target\", DoubleType(), False),\n",
    "    StructField(\"rpm\",          DoubleType(), False),\n",
    "    StructField(\"torque\",       DoubleType(), False),\n",
    "    StructField(\"motor_temp\",   DoubleType(), False),\n",
    "    StructField(\"ambient_temp\", DoubleType(), False),\n",
    "    StructField(\"wind_speed\",   DoubleType(), False),\n",
    "    StructField(\"irradiance\",   DoubleType(), False),\n",
    "    StructField(\"fault_code\",   StringType(),   True)\n",
    "])\n",
    "\n",
    "# b) compute total rows = sensors × per-sec slots (if you want that full volume)\n",
    "NUM_SITES      = 10\n",
    "ROWS_PER_SITE = 50\n",
    "site_ids     = [f\"site_{i:03d}\" for i in range(1, NUM_SITES+1)]\n",
    "tracker_rows = [f\"row_{i:05d}\" for i in range(1, NUM_SITES*ROWS_PER_SITE+1)]\n",
    "\n",
    "# if you truly want every sensor, every second:\n",
    "seconds_in_window = int((datetime(2025,2,1) - datetime(2025,1,1)).total_seconds())\n",
    "TOTAL_ROWS = seconds_in_window * NUM_SITES * ROWS_PER_SITE\n",
    "\n",
    "# c) launch dbldatagen\n",
    "telemetry_spec = (\n",
    "    dg.DataGenerator(spark, name=\"sensor_logs\", rows=TOTAL_ROWS, partitions=200)\n",
    "      .withSchema(schema)\n",
    "      .withColumnSpec(\"site_id\"     , values=site_ids,     random=True)\n",
    "      .withColumnSpec(\"tracker_row\" , values=tracker_rows, random=True)\n",
    "      .withColumnSpec(\"angle_actual\", minValue=0.0, maxValue=180.0, random=True)\n",
    "      .withColumnSpec(\"angle_target\", expr=\"angle_actual + (rand()-0.5)*10\")\n",
    "      .withColumnSpec(\"rpm\"         , minValue=0.0, maxValue=60.0 , random=True)\n",
    "      .withColumnSpec(\"torque\"      , minValue=0.0, maxValue=500.0, random=True)\n",
    "      .withColumnSpec(\"motor_temp\"  , minValue=15.0, maxValue=85.0, random=True)\n",
    "      .withColumnSpec(\"ambient_temp\", minValue=-5.0, maxValue=45.0, random=True)\n",
    "      .withColumnSpec(\"wind_speed\"  , minValue=0.0, maxValue=25.0 , random=True)\n",
    "      .withColumnSpec(\"irradiance\"  , minValue=0.0, maxValue=1200.0, random=True)\n",
    "      .withColumnSpec(\"fault_code\"  ,\n",
    "         values=[\"OK\",\"E01_motor_overload\",\"E02_sensor_fail\",\"E03_comm_loss\"],\n",
    "         weights=[0.85,0.05,0.05,0.05], random=True)\n",
    ")\n",
    "\n",
    "raw = telemetry_spec.build()\n",
    "\n",
    "# d) attach a random timestamp anywhere in Q1 2025\n",
    "seconds_in_q1 = seconds_in_window\n",
    "epoch_start   = int(datetime(2025,1,1).timestamp())\n",
    "\n",
    "with_ts = raw.withColumn(\n",
    "    \"event_timestamp\",\n",
    "    from_unixtime(\n",
    "      floor( lit(epoch_start) + rand() * seconds_in_q1 ).cast(\"long\")\n",
    "    )\n",
    ")\n"
   ]
  },
  {
   "cell_type": "code",
   "execution_count": 0,
   "metadata": {
    "application/vnd.databricks.v1+cell": {
     "cellMetadata": {},
     "inputWidgets": {},
     "nuid": "1d1e47ef-1275-4cb6-9493-c92891044553",
     "showTitle": false,
     "tableResultSettingsMap": {},
     "title": ""
    }
   },
   "outputs": [],
   "source": [
    "display(with_ts)"
   ]
  },
  {
   "cell_type": "code",
   "execution_count": 0,
   "metadata": {
    "application/vnd.databricks.v1+cell": {
     "cellMetadata": {
      "byteLimit": 2048000,
      "rowLimit": 10000
     },
     "inputWidgets": {},
     "nuid": "50fe5f0e-bcb9-4b61-acf0-d1719fdb1d76",
     "showTitle": false,
     "tableResultSettingsMap": {},
     "title": ""
    }
   },
   "outputs": [],
   "source": [
    "with_ts.count()"
   ]
  },
  {
   "cell_type": "code",
   "execution_count": 0,
   "metadata": {
    "application/vnd.databricks.v1+cell": {
     "cellMetadata": {
      "byteLimit": 2048000,
      "rowLimit": 10000
     },
     "inputWidgets": {},
     "nuid": "5fe2d0fc-ba48-4f78-9b6e-cee486ffaec3",
     "showTitle": false,
     "tableResultSettingsMap": {},
     "title": ""
    }
   },
   "outputs": [],
   "source": [
    "with_ts.write \\\n",
    "  .mode(\"overwrite\") \\\n",
    "  .parquet(\"/Volumes/soni/default/create_a_volume_to_write_files/\")"
   ]
  },
  {
   "cell_type": "code",
   "execution_count": 0,
   "metadata": {
    "application/vnd.databricks.v1+cell": {
     "cellMetadata": {
      "byteLimit": 2048000,
      "rowLimit": 10000
     },
     "inputWidgets": {},
     "nuid": "a447df36-8c12-4f76-904d-8d3e86208060",
     "showTitle": false,
     "tableResultSettingsMap": {},
     "title": ""
    }
   },
   "outputs": [],
   "source": [
    "#dbutils.fs.rm(\"/Volumes/soni/default/create_a_volume_to_write_files/\", True)"
   ]
  },
  {
   "cell_type": "code",
   "execution_count": 0,
   "metadata": {
    "application/vnd.databricks.v1+cell": {
     "cellMetadata": {
      "byteLimit": 2048000,
      "rowLimit": 10000
     },
     "inputWidgets": {},
     "nuid": "668261e2-791a-4071-a681-0be52ae1bebc",
     "showTitle": false,
     "tableResultSettingsMap": {},
     "title": ""
    }
   },
   "outputs": [],
   "source": []
  },
  {
   "cell_type": "code",
   "execution_count": 0,
   "metadata": {
    "application/vnd.databricks.v1+cell": {
     "cellMetadata": {},
     "inputWidgets": {},
     "nuid": "d4c8f815-59e3-4ed3-9589-a360862ae559",
     "showTitle": false,
     "tableResultSettingsMap": {},
     "title": ""
    }
   },
   "outputs": [],
   "source": []
  }
 ],
 "metadata": {
  "application/vnd.databricks.v1+notebook": {
   "computePreferences": null,
   "dashboards": [],
   "environmentMetadata": {
    "base_environment": "",
    "environment_version": "2"
   },
   "inputWidgetPreferences": null,
   "language": "python",
   "notebookMetadata": {
    "pythonIndentUnit": 2
   },
   "notebookName": "create_synthetic_energy_data",
   "widgets": {}
  },
  "language_info": {
   "name": "python"
  }
 },
 "nbformat": 4,
 "nbformat_minor": 0
}
